{
 "cells": [
  {
   "cell_type": "markdown",
   "metadata": {},
   "source": [
    "# Aquifer Analysis\n",
    "The complete DS pipeline for the aquifer waterbodies in the Acea dataset\n",
    "\n",
    "## The Aquifer Datasets\n",
    "- Auser\n",
    "- Doganella\n",
    "- Luco\n",
    "- Petrignano  \n",
    "\n",
    "Each aquifer has its own csv file, with different columns and rows. To continue with the best foot forward, it is important to get a grasp of how each df interacts with each other. To do so, each a data dictionary for each df is shown below.\n",
    "\n",
    "## Data Dictionaries\n",
    "### Auser\n",
    "Aquifer_Auser.csv\n",
    "\n",
    "| Feature Name          | Count | Description                                                                                                                                                                                                 | Data Type  |\n",
    "|-----------------------|-------|-------------------------------------------------------------------------------------------------------------------------------------------------------------------------------------------------------------|------------|\n",
    "| Date                  | 1     | DD/MM/YYYY, index ranging from 05/03/1998 to 30/06/2020                                                                                                                                                     | daily date |\n",
    "| Rainfall              | 10    | Columns for rainfall in mm from areas of Gallicano, Pontetetto, Monte Serra,<br>Orentano, Borgo a Mozzano, Piaggione, Calavorno, Croce Arcana, Tereglio Coreglia <br>Antelminelli, and Fabbriche di Vallico | float      |\n",
    "| Depth to Ground Water | 5     | Columns for meters to the ground floor detected by the piezometers of LT2, <br>SAL, PAG, CoS, DIEC                                                                                                          | float      |\n",
    "| Temperature           | 4     | Columns for temperature from thermometric stations of Orentano, Monte Serra, <br>Ponte a Moriano, Lucca Orto Botanico                                                                                       | float      |\n",
    "| Volume                | 5     | Columns for volume of water in cubic meters from drinking water treatment <br>plants of POL, CC1, CC2, CSA, CSAL                                                                                            | float      |\n",
    "| Hydrometry            | 2     | Columns for ground water level in meters from hydrometric stations <br>Monte_S_Quirico, Piaggione                                                                                                           | float      |\n",
    "\n",
    "### Doganella\n",
    "Doganella_Aquifer.csv\n",
    "\n",
    "### Luco\n",
    "Luco_Aquifer.csv\n",
    "\n",
    "### Petrignano\n",
    "Petrignano_Aquifer.csv\n"
   ]
  }
 ],
 "metadata": {
  "kernelspec": {
   "display_name": "Python 3",
   "language": "python",
   "name": "python3"
  },
  "language_info": {
   "codemirror_mode": {
    "name": "ipython",
    "version": 3
   },
   "file_extension": ".py",
   "mimetype": "text/x-python",
   "name": "python",
   "nbconvert_exporter": "python",
   "pygments_lexer": "ipython3",
   "version": "3.7.6"
  }
 },
 "nbformat": 4,
 "nbformat_minor": 4
}
